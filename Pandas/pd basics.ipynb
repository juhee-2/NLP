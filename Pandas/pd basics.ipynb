{
 "cells": [
  {
   "cell_type": "code",
   "execution_count": 7,
   "id": "778c426c",
   "metadata": {},
   "outputs": [],
   "source": [
    "import pandas as pd"
   ]
  },
  {
   "cell_type": "code",
   "execution_count": 12,
   "id": "3e0566a9",
   "metadata": {},
   "outputs": [
    {
     "name": "stdout",
     "output_type": "stream",
     "text": [
      "    id  math  english\n",
      "0  100    99       95\n",
      "1  102   100       92\n",
      "2  107    97       94\n",
      "    id  math  english\n",
      "1  100    99       95\n",
      "2  102   100       92\n",
      "3  107    97       94\n"
     ]
    }
   ],
   "source": [
    "#데이터 프레임 객체 생성\n",
    "df1 = pd.DataFrame(\n",
    "    {\"id\" : [100,102, 107],\n",
    "    \"math\" : [99, 100, 97],\n",
    "    \"english\" : [95, 92, 94]\n",
    "    }\n",
    ")\n",
    "print(df1) \n",
    "\n",
    "df2 = pd.DataFrame(\n",
    "    [\n",
    "        [100, 99, 95],\n",
    "        [102, 100, 92],\n",
    "        [107, 97, 94]\n",
    "    ] , columns = [\"id\", \"math\", \"english\"]\n",
    "      , index=[1,2,3]\n",
    ")\n",
    "print(df2)\n",
    "   "
   ]
  },
  {
   "cell_type": "code",
   "execution_count": 16,
   "id": "60d20ca1",
   "metadata": {},
   "outputs": [
    {
     "name": "stdout",
     "output_type": "stream",
     "text": [
      "  variable  value\n",
      "0       id    100\n",
      "1       id    102\n",
      "2       id    107\n",
      "3     math     99\n",
      "4     math    100\n",
      "5     math     97\n",
      "6  english     95\n",
      "7  english     92\n",
      "8  english     94\n"
     ]
    }
   ],
   "source": [
    "#melt : wide form -> long form\n",
    "df3 = pd.melt(df2)\n",
    "print(df3)"
   ]
  },
  {
   "cell_type": "code",
   "execution_count": null,
   "id": "132d6783",
   "metadata": {},
   "outputs": [
    {
     "name": "stdout",
     "output_type": "stream",
     "text": [
      "       var  val\n",
      "0       id  100\n",
      "1       id  102\n",
      "2       id  107\n",
      "3     math   99\n",
      "4     math  100\n",
      "5     math   97\n",
      "6  english   95\n",
      "7  english   92\n",
      "8  english   94\n"
     ]
    }
   ],
   "source": [
    "df3 = pd.melt(df2).rename(columns={\"variable\":\"var\",\"value\":\"val\"})\n",
    "print(df3)"
   ]
  },
  {
   "cell_type": "code",
   "execution_count": 18,
   "id": "cf5eeeae",
   "metadata": {},
   "outputs": [
    {
     "name": "stdout",
     "output_type": "stream",
     "text": [
      "    var  val\n",
      "0    id  100\n",
      "1    id  102\n",
      "2    id  107\n",
      "3  math   99\n",
      "4  math  100\n",
      "5  math   97\n"
     ]
    }
   ],
   "source": [
    "df3 = pd.melt(df2).rename(columns={\"variable\":\"var\",\"value\":\"val\"}).query(\"val > 95\")\n",
    "print(df3)"
   ]
  },
  {
   "cell_type": "code",
   "execution_count": null,
   "id": "2bb76742",
   "metadata": {},
   "outputs": [
    {
     "name": "stdout",
     "output_type": "stream",
     "text": [
      "         date     city  temp\n",
      "0  2025-09-13    Seoul    25\n",
      "1  2025-09-13  Incheon    24\n",
      "2  2025-09-14    Seoul    27\n",
      "3  2025-09-15  Incheon    24\n",
      "\n",
      "city        Incheon  Seoul\n",
      "date                      \n",
      "2025-09-13     24.0   25.0\n",
      "2025-09-14      NaN   27.0\n",
      "2025-09-15     24.0    NaN\n"
     ]
    }
   ],
   "source": [
    "#pivot : long form -> wide form\n",
    "df = pd.DataFrame({\n",
    "    'date' : ['2025-09-13', '2025-09-13', '2025-09-14', '2025-09-15'], #결측치 발생\n",
    "    'city' : ['Seoul', 'Incheon', 'Seoul', 'Incheon'],\n",
    "    'temp' : [25,24,27,24]\n",
    "})\n",
    "print(df)\n",
    "print()\n",
    "\n",
    "df1 = df.pivot(index='date', columns='city', values='temp')\n",
    "print(df1)"
   ]
  },
  {
   "cell_type": "code",
   "execution_count": 33,
   "id": "c9870556",
   "metadata": {},
   "outputs": [
    {
     "name": "stdout",
     "output_type": "stream",
     "text": [
      "['anagrams', 'anscombe', 'attention', 'brain_networks', 'car_crashes', 'diamonds', 'dots', 'dowjones', 'exercise', 'flights', 'fmri', 'geyser', 'glue', 'healthexp', 'iris', 'mpg', 'penguins', 'planets', 'seaice', 'taxis', 'tips', 'titanic']\n",
      "     survived  pclass     sex   age  sibsp  parch     fare embarked   class  \\\n",
      "0           0       3    male  22.0      1      0   7.2500        S   Third   \n",
      "1           1       1  female  38.0      1      0  71.2833        C   First   \n",
      "2           1       3  female  26.0      0      0   7.9250        S   Third   \n",
      "3           1       1  female  35.0      1      0  53.1000        S   First   \n",
      "4           0       3    male  35.0      0      0   8.0500        S   Third   \n",
      "..        ...     ...     ...   ...    ...    ...      ...      ...     ...   \n",
      "886         0       2    male  27.0      0      0  13.0000        S  Second   \n",
      "887         1       1  female  19.0      0      0  30.0000        S   First   \n",
      "888         0       3  female   NaN      1      2  23.4500        S   Third   \n",
      "889         1       1    male  26.0      0      0  30.0000        C   First   \n",
      "890         0       3    male  32.0      0      0   7.7500        Q   Third   \n",
      "\n",
      "       who  adult_male deck  embark_town alive  alone  \n",
      "0      man        True  NaN  Southampton    no  False  \n",
      "1    woman       False    C    Cherbourg   yes  False  \n",
      "2    woman       False  NaN  Southampton   yes   True  \n",
      "3    woman       False    C  Southampton   yes  False  \n",
      "4      man        True  NaN  Southampton    no   True  \n",
      "..     ...         ...  ...          ...   ...    ...  \n",
      "886    man        True  NaN  Southampton    no   True  \n",
      "887  woman       False    B  Southampton   yes   True  \n",
      "888  woman       False  NaN  Southampton    no  False  \n",
      "889    man        True    C    Cherbourg   yes   True  \n",
      "890    man        True  NaN   Queenstown    no   True  \n",
      "\n",
      "[891 rows x 15 columns]\n"
     ]
    }
   ],
   "source": [
    "import seaborn as sns\n",
    "\n",
    "print(sns.get_dataset_names())\n",
    "\n",
    "df = sns.load_dataset('titanic')\n",
    "print(df)"
   ]
  },
  {
   "cell_type": "code",
   "execution_count": null,
   "id": "10d7bdc5",
   "metadata": {},
   "outputs": [
    {
     "name": "stdout",
     "output_type": "stream",
     "text": [
      "      mpg  cylinders  displacement  horsepower  weight  acceleration  \\\n",
      "0    18.0          8         307.0       130.0    3504          12.0   \n",
      "1    15.0          8         350.0       165.0    3693          11.5   \n",
      "2    18.0          8         318.0       150.0    3436          11.0   \n",
      "3    16.0          8         304.0       150.0    3433          12.0   \n",
      "4    17.0          8         302.0       140.0    3449          10.5   \n",
      "..    ...        ...           ...         ...     ...           ...   \n",
      "393  27.0          4         140.0        86.0    2790          15.6   \n",
      "394  44.0          4          97.0        52.0    2130          24.6   \n",
      "395  32.0          4         135.0        84.0    2295          11.6   \n",
      "396  28.0          4         120.0        79.0    2625          18.6   \n",
      "397  31.0          4         119.0        82.0    2720          19.4   \n",
      "\n",
      "     model_year  origin                       name  \n",
      "0            70     usa  chevrolet chevelle malibu  \n",
      "1            70     usa          buick skylark 320  \n",
      "2            70     usa         plymouth satellite  \n",
      "3            70     usa              amc rebel sst  \n",
      "4            70     usa                ford torino  \n",
      "..          ...     ...                        ...  \n",
      "393          82     usa            ford mustang gl  \n",
      "394          82  europe                  vw pickup  \n",
      "395          82     usa              dodge rampage  \n",
      "396          82     usa                ford ranger  \n",
      "397          82     usa                 chevy s-10  \n",
      "\n",
      "[398 rows x 9 columns]\n"
     ]
    }
   ],
   "source": [
    "df = sns.load_dataset('mpg')\n",
    "print(df)"
   ]
  },
  {
   "cell_type": "code",
   "execution_count": 40,
   "id": "5a0a1a21",
   "metadata": {},
   "outputs": [
    {
     "ename": "SyntaxError",
     "evalue": "invalid syntax (1680740879.py, line 2)",
     "output_type": "error",
     "traceback": [
      "  \u001b[36mCell\u001b[39m\u001b[36m \u001b[39m\u001b[32mIn[40]\u001b[39m\u001b[32m, line 2\u001b[39m\n\u001b[31m    \u001b[39m\u001b[31mprint(df[df.sample(!=7)])\u001b[39m\n                       ^\n\u001b[31mSyntaxError\u001b[39m\u001b[31m:\u001b[39m invalid syntax\n"
     ]
    }
   ],
   "source": [
    "print(df[df.age > 70])\n",
    "print(df[df.sample(!=7)])\n",
    "print(df.nsmallest(4,'age'))"
   ]
  },
  {
   "cell_type": "markdown",
   "id": "74c753ef",
   "metadata": {},
   "source": []
  }
 ],
 "metadata": {
  "kernelspec": {
   "display_name": ".venv",
   "language": "python",
   "name": "python3"
  },
  "language_info": {
   "codemirror_mode": {
    "name": "ipython",
    "version": 3
   },
   "file_extension": ".py",
   "mimetype": "text/x-python",
   "name": "python",
   "nbconvert_exporter": "python",
   "pygments_lexer": "ipython3",
   "version": "3.11.3"
  }
 },
 "nbformat": 4,
 "nbformat_minor": 5
}
