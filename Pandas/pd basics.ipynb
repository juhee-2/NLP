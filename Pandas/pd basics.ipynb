{
 "cells": [
  {
   "cell_type": "code",
   "execution_count": 7,
   "id": "778c426c",
   "metadata": {},
   "outputs": [],
   "source": [
    "import pandas as pd"
   ]
  },
  {
   "cell_type": "code",
   "execution_count": 12,
   "id": "3e0566a9",
   "metadata": {},
   "outputs": [
    {
     "name": "stdout",
     "output_type": "stream",
     "text": [
      "    id  math  english\n",
      "0  100    99       95\n",
      "1  102   100       92\n",
      "2  107    97       94\n",
      "    id  math  english\n",
      "1  100    99       95\n",
      "2  102   100       92\n",
      "3  107    97       94\n"
     ]
    }
   ],
   "source": [
    "#데이터 프레임 객체 생성\n",
    "df1 = pd.DataFrame(\n",
    "    {\"id\" : [100,102, 107],\n",
    "    \"math\" : [99, 100, 97],\n",
    "    \"english\" : [95, 92, 94]\n",
    "    }\n",
    ")\n",
    "print(df1) \n",
    "\n",
    "df2 = pd.DataFrame(\n",
    "    [\n",
    "        [100, 99, 95],\n",
    "        [102, 100, 92],\n",
    "        [107, 97, 94]\n",
    "    ] , columns = [\"id\", \"math\", \"english\"]\n",
    "      , index=[1,2,3]\n",
    ")\n",
    "print(df2)\n",
    "   "
   ]
  },
  {
   "cell_type": "code",
   "execution_count": 16,
   "id": "60d20ca1",
   "metadata": {},
   "outputs": [
    {
     "name": "stdout",
     "output_type": "stream",
     "text": [
      "  variable  value\n",
      "0       id    100\n",
      "1       id    102\n",
      "2       id    107\n",
      "3     math     99\n",
      "4     math    100\n",
      "5     math     97\n",
      "6  english     95\n",
      "7  english     92\n",
      "8  english     94\n"
     ]
    }
   ],
   "source": [
    "#melt : wide form -> long form\n",
    "df3 = pd.melt(df2)\n",
    "print(df3)"
   ]
  },
  {
   "cell_type": "code",
   "execution_count": null,
   "id": "132d6783",
   "metadata": {},
   "outputs": [
    {
     "name": "stdout",
     "output_type": "stream",
     "text": [
      "       var  val\n",
      "0       id  100\n",
      "1       id  102\n",
      "2       id  107\n",
      "3     math   99\n",
      "4     math  100\n",
      "5     math   97\n",
      "6  english   95\n",
      "7  english   92\n",
      "8  english   94\n"
     ]
    }
   ],
   "source": [
    "df3 = pd.melt(df2).rename(columns={\"variable\":\"var\",\"value\":\"val\"})\n",
    "print(df3)"
   ]
  },
  {
   "cell_type": "code",
   "execution_count": null,
   "id": "cf5eeeae",
   "metadata": {},
   "outputs": [],
   "source": [
    "df3 = pd.melt(df2).rename(columns={\"variable\":\"var\",\"value\":\"val\"}).query(\"val >= 95\")\n",
    "print(df3)"
   ]
  }
 ],
 "metadata": {
  "kernelspec": {
   "display_name": ".venv",
   "language": "python",
   "name": "python3"
  },
  "language_info": {
   "codemirror_mode": {
    "name": "ipython",
    "version": 3
   },
   "file_extension": ".py",
   "mimetype": "text/x-python",
   "name": "python",
   "nbconvert_exporter": "python",
   "pygments_lexer": "ipython3",
   "version": "3.11.3"
  }
 },
 "nbformat": 4,
 "nbformat_minor": 5
}
