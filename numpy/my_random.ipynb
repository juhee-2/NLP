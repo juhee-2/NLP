{
 "cells": [
  {
   "cell_type": "code",
   "execution_count": 6,
   "id": "a5dde486",
   "metadata": {},
   "outputs": [],
   "source": [
    "import numpy as np"
   ]
  },
  {
   "cell_type": "code",
   "execution_count": 3,
   "id": "9ef7c2ff",
   "metadata": {},
   "outputs": [
    {
     "name": "stdout",
     "output_type": "stream",
     "text": [
      "[0.49460165 0.2280831  0.25547392 0.39632991 0.3773151 ]\n",
      "[6 6 3 3 5]\n",
      "[-1.08153975 -0.1797424   0.31207884  0.06181543 -0.25827376]\n",
      "[1 7 4]\n"
     ]
    }
   ],
   "source": [
    "#random\n",
    "\n",
    "np.random.seed(50)\n",
    "\n",
    "x = np.random.random(5)\n",
    "print(x)\n",
    "\n",
    "y = np.random.randint(1,7,5)\n",
    "print(y)\n",
    "\n",
    "z = np.random.normal(0,1,5)\n",
    "print(z)\n",
    "\n",
    "q = np.arange(1,10)\n",
    "choice = np.random.choice(q,3)\n",
    "print(choice)"
   ]
  },
  {
   "cell_type": "code",
   "execution_count": 4,
   "id": "19349021",
   "metadata": {},
   "outputs": [
    {
     "name": "stdout",
     "output_type": "stream",
     "text": [
      "[3 4 5]\n",
      "[0 0 0 4 5]\n"
     ]
    }
   ],
   "source": [
    "a = np.arange(1,6)\n",
    "\n",
    "mask = a > 2\n",
    "print(a[mask])\n",
    "\n",
    "result = np.where(a > 3, a, 0)\n",
    "print(result)"
   ]
  },
  {
   "cell_type": "code",
   "execution_count": 15,
   "id": "88776912",
   "metadata": {},
   "outputs": [
    {
     "name": "stdout",
     "output_type": "stream",
     "text": [
      "[ 0  1  2  3  4  5  6  7  8  9 10 11]\n",
      "[[ 0  1  2]\n",
      " [ 3  4  5]\n",
      " [ 6  7  8]\n",
      " [ 9 10 11]]\n",
      "[ 0  1  2  3  4  5  6  7  8  9 10 11]\n"
     ]
    }
   ],
   "source": [
    "o = np.arange(0,12)\n",
    "r = o.reshape(2,2,3)\n",
    "r=o.reshape(4,3)\n",
    "\n",
    "print(o)\n",
    "print(r)\n",
    "\n",
    "f = r.flatten()\n",
    "print(f)\n"
   ]
  },
  {
   "cell_type": "code",
   "execution_count": null,
   "id": "64ab6564",
   "metadata": {},
   "outputs": [
    {
     "name": "stdout",
     "output_type": "stream",
     "text": [
      "[2. 5. 3. 4.]\n",
      "[5.45981500e+01 7.20048993e+10 8.10308393e+03 8.88611052e+06]\n",
      "[1.38629436 3.21887582 2.19722458 2.77258872]\n",
      "[0.         1.57079633 3.14159265]\n",
      "[0.0000000e+00 1.0000000e+00 1.2246468e-16]\n",
      "[ 1.000000e+00  6.123234e-17 -1.000000e+00]\n",
      "[[ 4 25]\n",
      " [ 9 16]]\n",
      "[[ 4  9]\n",
      " [25 16]]\n"
     ]
    }
   ],
   "source": [
    "#수학합수\n",
    "m = np.array([4,25,9,16])\n",
    "#제곱근, 지수, 로그\n",
    "print(np.sqrt(m))\n",
    "print(np.exp(m))\n",
    "print(np.log(m))\n",
    "\n",
    "#삼각함수\n",
    "n = np.array([0,np.pi/2,np.pi])\n",
    "print(n)\n",
    "print(np.sin(n))\n",
    "print(np.cos(n))\n",
    "\n",
    "#행렬만들기\n",
    "r = m.reshape(2,2)\n",
    "print(r)\n",
    "\n",
    "#전치행렬 만들어주기\n",
    "t = r.transpose()\n",
    "print(t)\n"
   ]
  }
 ],
 "metadata": {
  "kernelspec": {
   "display_name": ".venv",
   "language": "python",
   "name": "python3"
  },
  "language_info": {
   "codemirror_mode": {
    "name": "ipython",
    "version": 3
   },
   "file_extension": ".py",
   "mimetype": "text/x-python",
   "name": "python",
   "nbconvert_exporter": "python",
   "pygments_lexer": "ipython3",
   "version": "3.11.3"
  }
 },
 "nbformat": 4,
 "nbformat_minor": 5
}
